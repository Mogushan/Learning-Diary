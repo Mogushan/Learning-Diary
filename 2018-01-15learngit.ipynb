{
 "cells": [
  {
   "cell_type": "markdown",
   "metadata": {},
   "source": [
    "Git是一种分布式版本控制系统。与word等文本管理方式不同，Git存储的是每次的修改内容和修改注释，因此，可以查看不同版本的文档的修改情况。\n",
    "Git可以实现多人对该版本的内容的修改，并且合而为一。\n",
    "Git除了本地的库外，还有个远程仓库，也就是Github。\n",
    "接下来从安装Git开始，一步步记录下今天学习到的Git代码和概念。"
   ]
  },
  {
   "cell_type": "markdown",
   "metadata": {},
   "source": [
    "# 安装Git"
   ]
  },
  {
   "cell_type": "markdown",
   "metadata": {},
   "source": [
    "### 在Windows上安装Git"
   ]
  },
  {
   "cell_type": "markdown",
   "metadata": {},
   "source": [
    "从Git官网下载安装程序，然后找到Git Bash。 \n",
    "为了在编辑版本时，明确机器的名称，在Git Bash中输入："
   ]
  },
  {
   "cell_type": "code",
   "execution_count": null,
   "metadata": {
    "collapsed": true
   },
   "outputs": [],
   "source": [
    "$ git config --global user.name \"Your name\"\n",
    "$ git config --global user.email \"Your email address\""
   ]
  },
  {
   "cell_type": "markdown",
   "metadata": {},
   "source": [
    "### 在Linux上安装Git"
   ]
  },
  {
   "cell_type": "markdown",
   "metadata": {},
   "source": [
    "首先需要确认是否安装Git，然后再进行Git的安装"
   ]
  },
  {
   "cell_type": "code",
   "execution_count": null,
   "metadata": {
    "collapsed": true
   },
   "outputs": [],
   "source": [
    "$ git\n",
    "$ sudo apt-get install git"
   ]
  },
  {
   "cell_type": "markdown",
   "metadata": {},
   "source": [
    "# 创建版本库"
   ]
  },
  {
   "cell_type": "markdown",
   "metadata": {},
   "source": [
    "版本库就是repository，可以简单理解成一个目录。\n",
    "首先，选择一个合适的地方，建立一个空目录，尽量用英文命名。"
   ]
  },
  {
   "cell_type": "code",
   "execution_count": null,
   "metadata": {
    "collapsed": true
   },
   "outputs": [],
   "source": [
    "$ mkdir Tracycodes\n",
    "$ cd Tracycodes\n",
    "$ pwd #pwd用于显示当前目录"
   ]
  },
  {
   "cell_type": "markdown",
   "metadata": {},
   "source": [
    "通过下面的命令将该目录变成Git可以管理的版本库"
   ]
  },
  {
   "cell_type": "code",
   "execution_count": null,
   "metadata": {
    "collapsed": true
   },
   "outputs": [],
   "source": [
    "$ git init"
   ]
  },
  {
   "cell_type": "markdown",
   "metadata": {},
   "source": [
    "建立好了空白的版本库，目录里多了.git，这是Git来跟踪管理版本库的。\n",
    "由于该目录是默认隐藏的，用ls -ah命令可以看见。"
   ]
  },
  {
   "cell_type": "markdown",
   "metadata": {},
   "source": [
    "# 对Git库中版本进行修改切换等操作"
   ]
  },
  {
   "cell_type": "markdown",
   "metadata": {},
   "source": [
    "## 将文件放入Git库的步骤"
   ]
  },
  {
   "cell_type": "markdown",
   "metadata": {},
   "source": [
    "首先，采用命令，将文件放入暂存区"
   ]
  },
  {
   "cell_type": "code",
   "execution_count": null,
   "metadata": {
    "collapsed": true
   },
   "outputs": [],
   "source": [
    "$ git add **.txt #后缀"
   ]
  },
  {
   "cell_type": "markdown",
   "metadata": {},
   "source": [
    "其次，将暂存区的文件提交到版本库"
   ]
  },
  {
   "cell_type": "code",
   "execution_count": null,
   "metadata": {
    "collapsed": true
   },
   "outputs": [],
   "source": [
    "$ git commit -m \"这里是此次更改的注释内容\""
   ]
  },
  {
   "cell_type": "markdown",
   "metadata": {},
   "source": [
    "这里可以多次add，最后统一commit"
   ]
  },
  {
   "cell_type": "code",
   "execution_count": null,
   "metadata": {
    "collapsed": true
   },
   "outputs": [],
   "source": [
    "$ git status #用该命令查看仓库的状态"
   ]
  },
  {
   "cell_type": "markdown",
   "metadata": {},
   "source": [
    "当对文件进行修改，并没有放入暂存区前，\n",
    "可以通过git diff …….txt的命令对文件所做的修改进行查看。"
   ]
  },
  {
   "cell_type": "markdown",
   "metadata": {},
   "source": [
    "## 在文件版本间进行切换"
   ]
  },
  {
   "cell_type": "markdown",
   "metadata": {},
   "source": [
    "假设对一个文件进行了多次编辑，并提交到Git仓库多次，那么git就记录下了这几次的编辑内容及注释。可以通过下面命令查询："
   ]
  },
  {
   "cell_type": "code",
   "execution_count": null,
   "metadata": {
    "collapsed": true
   },
   "outputs": [],
   "source": [
    "$ git log #显示从最近到最远的提交日志\n",
    "$ git log --pretty=oneline # 简化了上条指令的显示内容，简洁清晰"
   ]
  },
  {
   "cell_type": "code",
   "execution_count": null,
   "metadata": {
    "collapsed": true
   },
   "outputs": [],
   "source": [
    "其中大串的数字位版本号（commit id）。"
   ]
  },
  {
   "cell_type": "markdown",
   "metadata": {},
   "source": [
    "如果需要将该文件回退到以前的版本。首先需要知道当前版本是哪个版本。在Git中，HEAD表示当前版本，也是最新的提交，上一个版本是HEAD^，上上一个是HEAD^^，往上100个版本写成HEAD~100。"
   ]
  },
  {
   "cell_type": "markdown",
   "metadata": {},
   "source": [
    "将当前版本回退到上一个版本，采用git reset命令："
   ]
  },
  {
   "cell_type": "code",
   "execution_count": null,
   "metadata": {
    "collapsed": true
   },
   "outputs": [],
   "source": [
    "$ git reset --hard HEAD^"
   ]
  },
  {
   "cell_type": "markdown",
   "metadata": {},
   "source": [
    "如果发现退错了，又想回退到之前的版本，则通过 git reflog 命令找到之前版本的版本号，输入版本号的前几位就可以恢复。"
   ]
  },
  {
   "cell_type": "code",
   "execution_count": null,
   "metadata": {
    "collapsed": true
   },
   "outputs": [],
   "source": [
    "$ git reset --hard *commit id"
   ]
  },
  {
   "cell_type": "markdown",
   "metadata": {},
   "source": [
    "可以采用以下命令查看工作区与版本库最新版本的区别"
   ]
  },
  {
   "cell_type": "code",
   "execution_count": null,
   "metadata": {
    "collapsed": true
   },
   "outputs": [],
   "source": [
    "$ git diff HEAD -- **.txt"
   ]
  },
  {
   "cell_type": "markdown",
   "metadata": {},
   "source": [
    "## 撤销修改"
   ]
  },
  {
   "cell_type": "markdown",
   "metadata": {},
   "source": [
    "如果只是修改了工作区的文件，没有add到暂存区，那么，采用下面的命令，可以丢弃工作区的修改"
   ]
  },
  {
   "cell_type": "code",
   "execution_count": null,
   "metadata": {
    "collapsed": true
   },
   "outputs": [],
   "source": [
    "$ git checkout -- **.txt`"
   ]
  },
  {
   "cell_type": "markdown",
   "metadata": {},
   "source": [
    "这里的 -- 符号很重要，如果没有这个符号，就变成了“切换到另一个分支”的命令。"
   ]
  },
  {
   "cell_type": "markdown",
   "metadata": {},
   "source": [
    "如果已经git add到暂存区了，那么，采用下面的命令，将暂存区的修改撤销掉，重新放入工作区，然后采用上述命令撤销修改。"
   ]
  },
  {
   "cell_type": "code",
   "execution_count": null,
   "metadata": {
    "collapsed": true
   },
   "outputs": [],
   "source": [
    "$ git reset HEAD **.txt"
   ]
  },
  {
   "cell_type": "markdown",
   "metadata": {},
   "source": [
    "如果已经提交到版本库，采用版本回退的功能。但是如果已经提交到远程版本库，那么就完蛋了。"
   ]
  },
  {
   "cell_type": "markdown",
   "metadata": {},
   "source": [
    "## 删除文件"
   ]
  },
  {
   "cell_type": "markdown",
   "metadata": {},
   "source": [
    "在工作区删除文件："
   ]
  },
  {
   "cell_type": "code",
   "execution_count": null,
   "metadata": {
    "collapsed": true
   },
   "outputs": [],
   "source": [
    "$ rm **.txt"
   ]
  },
  {
   "cell_type": "markdown",
   "metadata": {},
   "source": [
    "这时，工作区和版本库不一致，git status可以看出哪些文件被删除了"
   ]
  },
  {
   "cell_type": "markdown",
   "metadata": {},
   "source": [
    "如果确定删除，则采用git rm删除，并git commit："
   ]
  },
  {
   "cell_type": "code",
   "execution_count": null,
   "metadata": {
    "collapsed": true
   },
   "outputs": [],
   "source": [
    "$ git rm **.txt\n",
    "$ git commit -m \"注释原因\""
   ]
  },
  {
   "cell_type": "markdown",
   "metadata": {},
   "source": [
    "如果是误删，那么需要恢复"
   ]
  },
  {
   "cell_type": "code",
   "execution_count": null,
   "metadata": {
    "collapsed": true
   },
   "outputs": [],
   "source": [
    "$ git checkout -- **.txt"
   ]
  }
 ],
 "metadata": {
  "kernelspec": {
   "display_name": "Python 3",
   "language": "python",
   "name": "python3"
  },
  "language_info": {
   "codemirror_mode": {
    "name": "ipython",
    "version": 3
   },
   "file_extension": ".py",
   "mimetype": "text/x-python",
   "name": "python",
   "nbconvert_exporter": "python",
   "pygments_lexer": "ipython3",
   "version": "3.6.3"
  }
 },
 "nbformat": 4,
 "nbformat_minor": 2
}
